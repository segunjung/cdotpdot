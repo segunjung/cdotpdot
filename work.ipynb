{
 "cells": [
  {
   "cell_type": "code",
   "execution_count": null,
   "metadata": {},
   "outputs": [],
   "source": [
    "# awk 'BEGIN {printf(\"##fileformat=VCFv4.2\\n##INFO=<ID=END,Number=1,Type=Integer>\\n#CHROM\\tPOS\\tID\\tREF\\tALT\\tQUAL\\tFILTER\\tINFO\\n\");} {printf(\"%s\\t%s\\t.\\t%s\\t%s\\t.\\t.\\t.\\n\",$1,int($2)+1,$5,$8);}' test.bed > test2.vcf"
   ]
  },
  {
   "cell_type": "code",
   "execution_count": 2,
   "metadata": {},
   "outputs": [],
   "source": [
    "import pandas as pd\n",
    "df=pd.read_csv('test.bed',sep='\\t')\n",
    "df.fillna('-',inplace=True)\n",
    "df['start']=df['start'].astype(int)+1\n",
    "# df.to_csv('check.txt',sep='\\t')\n",
    "df['ID3']=df['ref'].astype(str)+\"/\"+df['alt'].astype(str)\n",
    "df['ID4']=1\n",
    "df[['chr','start','stop','ID3','ID4']].to_csv('vep_input.txt',index=False,sep='\\t',header=False)\n",
    "\n",
    "# for hg19 --  upload check.txt to https://grch37.ensembl.org/Homo_sapiens/Tools/VEP?db=core;tl=nAhnFMX4JsxRgd0h-10490081"
   ]
  },
  {
   "cell_type": "code",
   "execution_count": 36,
   "metadata": {},
   "outputs": [],
   "source": [
    "# intersect between vep files and our transcripts\n",
    "import pandas as pd\n",
    "ref=pd.read_csv('neo_transcript.txt',sep='\\t')\n",
    "df=pd.read_csv('refseq.txt',sep='\\t') #,usecols=['Location','SYMBOL','Feature','HGVSc','HGVSp', 'Feature_original',])\n",
    "df['Feature2']=df['Feature'].str.split('.').str[0]\n",
    "df_merged=pd.merge(ref,df,how='inner',on=['SYMBOL','Feature2'])\n",
    "df2=pd.read_csv('ensembl.txt',sep='\\t')#,usecols=['Location','SYMBOL','Feature','HGVSc','HGVSp'])\n",
    "df2['Feature2']=df2['Feature'].str.split('.').str[0]\n",
    "df2_merged=pd.merge(ref,df2,how='inner',on=['SYMBOL','Feature2'])\n",
    "# merge refseq and ensembl\n",
    "df_concat=pd.concat([df_merged,df2_merged])\n",
    "df_concat.to_csv('refseq_ensembl_combined.txt',sep='\\t',index=False)\n",
    "\n",
    "\n"
   ]
  },
  {
   "cell_type": "code",
   "execution_count": 39,
   "metadata": {},
   "outputs": [],
   "source": [
    "#manually copy over 4th column from check.txt to test.bed for now\n",
    "ref=pd.read_csv('test.bed',sep='\\t')\n",
    "x =pd.read_csv('refseq_ensembl_combined.txt',sep='\\t',usecols=['Location','SYMBOL','Feature','UPLOADED_ALLELE','HGVSc','HGVSp'])\n",
    "x['chr']=x['Location'].str.split(':').str[0]\n",
    "x['temp']=x['Location'].str.split(':').str[1]\n",
    "x['start']=x['temp'].str.split('-').str[0].astype(int) - 1\n",
    "x['start']=x['start'].astype(str)\n",
    "x['stop']=x['temp'].str.split('-').str[1]"
   ]
  },
  {
   "cell_type": "code",
   "execution_count": 41,
   "metadata": {},
   "outputs": [],
   "source": [
    "x['chr']=x['chr'].astype(str)\n",
    "\n",
    "xx=pd.merge(ref,x,how='left',on=['chr','stop','UPLOADED_ALLELE'])\n",
    "xx.drop_duplicates(inplace=True)\n",
    "xx.to_csv('final.txt',sep='\\t')"
   ]
  }
 ],
 "metadata": {
  "kernelspec": {
   "display_name": "base",
   "language": "python",
   "name": "python3"
  },
  "language_info": {
   "codemirror_mode": {
    "name": "ipython",
    "version": 3
   },
   "file_extension": ".py",
   "mimetype": "text/x-python",
   "name": "python",
   "nbconvert_exporter": "python",
   "pygments_lexer": "ipython3",
   "version": "3.8.17"
  }
 },
 "nbformat": 4,
 "nbformat_minor": 2
}
